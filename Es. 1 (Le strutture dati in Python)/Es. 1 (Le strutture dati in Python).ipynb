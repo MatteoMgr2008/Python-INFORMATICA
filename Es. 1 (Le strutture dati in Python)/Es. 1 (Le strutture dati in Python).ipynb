{
 "cells": [
  {
   "cell_type": "markdown",
   "id": "329667bc",
   "metadata": {},
   "source": [
    "# LE STRUTTURE E TIPI DI DATI IN PYTHON"
   ]
  },
  {
   "cell_type": "markdown",
   "id": "162de283",
   "metadata": {},
   "source": [
    "In questa esercitazione vengono mostrati le principali strutture e i tipi di dati in Python."
   ]
  },
  {
   "cell_type": "markdown",
   "id": "145f3cc2",
   "metadata": {},
   "source": [
    "## I TIPI DI DATI"
   ]
  },
  {
   "cell_type": "markdown",
   "id": "50ec003f",
   "metadata": {},
   "source": [
    "I tipi di dati servono per definire dei valori che una variabile può assumere e per definire le operazioni che quella variabile può fare.\n",
    "I tipi di dati possono essere semplici oppure non semplici, cioè le sequenze."
   ]
  },
  {
   "cell_type": "markdown",
   "id": "b29257b6",
   "metadata": {},
   "source": [
    "### I TIPI DI DATI SEMPLICI"
   ]
  },
  {
   "cell_type": "markdown",
   "id": "c8ac962d",
   "metadata": {},
   "source": [
    "I tipi di dati semplici sono i tipi di dati fondamentali per lo sviluppo di Python, come per qualsiasi linguaggio di programmazione."
   ]
  },
  {
   "cell_type": "markdown",
   "id": "a63cca28",
   "metadata": {},
   "source": [
    "I tipi di dati semplici sono:\n",
    "- Gli integer (int)\n",
    "- I float (float)\n",
    "- I boolean (bool)\n",
    "- I complex (complex)\n",
    "- I long (long)\n",
    "- I char (chr)"
   ]
  },
  {
   "cell_type": "markdown",
   "id": "c4d643dd",
   "metadata": {},
   "source": [
    "#### GLI INTEGER"
   ]
  },
  {
   "cell_type": "markdown",
   "id": "7882e2d0",
   "metadata": {},
   "source": [
    "Gli integer (int) definiscono i valori di variabili corrispondenti a dei numeri interi (solo a numeri interi, non a numeri decimali). Con gli integer possiamo eseguire operazioni aritmetiche di base come la somma, la differenza, il prodotto, la divisione, la potenza "
   ]
  },
  {
   "cell_type": "code",
   "execution_count": 113,
   "id": "4d0ccddf",
   "metadata": {},
   "outputs": [
    {
     "name": "stdout",
     "output_type": "stream",
     "text": [
      "10\n",
      "Il tipo di dato infatti è:\n",
      "<class 'int'>\n"
     ]
    }
   ],
   "source": [
    "a = 10 # Valore integer \n",
    "print(a)\n",
    "print(\"Il tipo di dato infatti è:\")\n",
    "print(type(a)) # con type posso sapere il tipo di dato"
   ]
  },
  {
   "cell_type": "markdown",
   "id": "04f6e4cc",
   "metadata": {},
   "source": [
    "##### ESEMPIO: SOMMA"
   ]
  },
  {
   "cell_type": "code",
   "execution_count": 114,
   "id": "6ec4c412",
   "metadata": {},
   "outputs": [
    {
     "name": "stdout",
     "output_type": "stream",
     "text": [
      "La somma di 10 e 8 è:\n",
      "18\n",
      "Il tipo di dato infatti è:\n",
      "<class 'int'>\n"
     ]
    }
   ],
   "source": [
    "a = 10 # il primo valore è integer\n",
    "b = 8 # il secondo valore è integer\n",
    "c = a + b\n",
    "print(f\"La somma di {a} e {b} è:\")\n",
    "print(c)\n",
    "print(\"Il tipo di dato infatti è:\")\n",
    "print(type(c))"
   ]
  },
  {
   "cell_type": "markdown",
   "id": "722ff987",
   "metadata": {},
   "source": [
    "##### ESEMPIO: DIFFERENZA"
   ]
  },
  {
   "cell_type": "code",
   "execution_count": 115,
   "id": "34b9a05e",
   "metadata": {},
   "outputs": [
    {
     "name": "stdout",
     "output_type": "stream",
     "text": [
      "La differenza di 10 e 8 è:\n",
      "2\n",
      "Il tipo di dato infatti è:\n",
      "<class 'int'>\n"
     ]
    }
   ],
   "source": [
    "a = 10 # il primo valore è integer\n",
    "b = 8 # il secondo valore è integer\n",
    "c = a - b\n",
    "print(f\"La differenza di {a} e {b} è:\")\n",
    "print(c)\n",
    "print(\"Il tipo di dato infatti è:\")\n",
    "print(type(c)) "
   ]
  },
  {
   "cell_type": "markdown",
   "id": "fd68fe43",
   "metadata": {},
   "source": [
    "##### ESEMPIO: DIVISIONE"
   ]
  },
  {
   "cell_type": "code",
   "execution_count": 116,
   "id": "df3e19da",
   "metadata": {},
   "outputs": [
    {
     "name": "stdout",
     "output_type": "stream",
     "text": [
      "La divisione normale di 10 e 2 è:\n",
      "5.0\n",
      "Il tipo di dato della divisione normale infatti è:\n",
      "<class 'float'>\n",
      "La divisione con solo la parte intera di 10 e 2 è:\n",
      "5\n",
      "Il tipo di dato della divisione con solo la parte intera infatti è:\n",
      "<class 'int'>\n"
     ]
    }
   ],
   "source": [
    "a = 10 # il primo valore è integer\n",
    "b = 2 # il secondo valore è integer\n",
    "c = a / b # Esegue la divisione normale (ritorna sempre un float)\n",
    "d = a // b # Esegue la divisione ritornando solo la parte intera (ritorna sempre un int), si usano le due barre anzichè una barra sola\n",
    "print(f\"La divisione normale di {a} e {b} è:\")\n",
    "print(c)\n",
    "print(\"Il tipo di dato della divisione normale infatti è:\")\n",
    "print(type(c))\n",
    "print(f\"La divisione con solo la parte intera di {a} e {b} è:\")\n",
    "print(d)\n",
    "print(\"Il tipo di dato della divisione con solo la parte intera infatti è:\")\n",
    "print(type(d))"
   ]
  },
  {
   "cell_type": "markdown",
   "id": "a41ba2e9",
   "metadata": {},
   "source": [
    "##### ESEMPIO: MOLTIPLICAZIONE"
   ]
  },
  {
   "cell_type": "code",
   "execution_count": 117,
   "id": "4911fe62",
   "metadata": {},
   "outputs": [
    {
     "name": "stdout",
     "output_type": "stream",
     "text": [
      "La moltiplicazione di 8 e 2 è:\n",
      "16\n",
      "Il tipo di dato della moltiplicazione infatti è:\n",
      "<class 'int'>\n"
     ]
    }
   ],
   "source": [
    "a = 8 # il primo valore è integer\n",
    "b = 2 # il secondo valore è integer\n",
    "c = a * b # Esegue la moltiplicazione (si usa sempre l'asterisco)\n",
    "\n",
    "print(f\"La moltiplicazione di {a} e {b} è:\")\n",
    "print(c)\n",
    "print(\"Il tipo di dato della moltiplicazione infatti è:\")\n",
    "print(type(c))"
   ]
  },
  {
   "cell_type": "markdown",
   "id": "e946580a",
   "metadata": {},
   "source": [
    "##### ESEMPIO: POTENZA"
   ]
  },
  {
   "cell_type": "code",
   "execution_count": 118,
   "id": "91c28613",
   "metadata": {},
   "outputs": [
    {
     "name": "stdout",
     "output_type": "stream",
     "text": [
      "La potenza di 8 e 2 è:\n",
      "64\n",
      "Il tipo di dato della potenza infatti è:\n",
      "<class 'int'>\n"
     ]
    }
   ],
   "source": [
    "a = 8 # il primo valore è integer\n",
    "b = 2 # il secondo valore è integer\n",
    "c = a ** b # Esegue la potenza (si usa sempre il doppio asterisco)\n",
    "\n",
    "print(f\"La potenza di {a} e {b} è:\")\n",
    "print(c)\n",
    "print(\"Il tipo di dato della potenza infatti è:\")\n",
    "print(type(c))"
   ]
  },
  {
   "cell_type": "markdown",
   "id": "c59babf0",
   "metadata": {},
   "source": [
    "#### I FLOAT"
   ]
  },
  {
   "cell_type": "markdown",
   "id": "4fa2131a",
   "metadata": {},
   "source": [
    "I float (float) definiscono i valori di variabili corrispondenti a dei numeri con la virgola. Con i float possiamo eseguire operazioni aritmetiche di base come la somma, la differenza, il prodotto, la divisione, la potenza ma con numeri decimali"
   ]
  },
  {
   "cell_type": "code",
   "execution_count": 119,
   "id": "776f9eea",
   "metadata": {},
   "outputs": [
    {
     "name": "stdout",
     "output_type": "stream",
     "text": [
      "12.3\n",
      "Il tipo di dato infatti è:\n",
      "<class 'float'>\n"
     ]
    }
   ],
   "source": [
    "a = 12.3 # Valore float \n",
    "print(a)\n",
    "print(\"Il tipo di dato infatti è:\")\n",
    "print(type(a))"
   ]
  },
  {
   "cell_type": "markdown",
   "id": "e2367dc6",
   "metadata": {},
   "source": [
    "##### ESEMPIO: SOMMA"
   ]
  },
  {
   "cell_type": "code",
   "execution_count": 120,
   "id": "e9077d94",
   "metadata": {},
   "outputs": [
    {
     "name": "stdout",
     "output_type": "stream",
     "text": [
      "La somma di 10.2 e 8.2 è:\n",
      "18.4\n",
      "Il tipo di dato infatti è:\n",
      "<class 'float'>\n",
      "La somma di 10.2 e 3 è:\n",
      "13.2\n",
      "Il tipo di dato infatti è:\n",
      "<class 'float'>\n"
     ]
    }
   ],
   "source": [
    "a = 10.2 # il primo valore è un flot\n",
    "b = 8.2 # il secondo valore è un flot\n",
    "d = 3 # il terzo valore è un integer\n",
    "\n",
    "c = a + b # Si sommano i due float\n",
    "e = a + d # Si sommano un float con un int, il risultato da SEMPRE un float\n",
    "print(f\"La somma di {a} e {b} è:\")\n",
    "print(c)\n",
    "print(\"Il tipo di dato infatti è:\")\n",
    "print(type(c))\n",
    "print(f\"La somma di {a} e {d} è:\")\n",
    "print(e)\n",
    "print(\"Il tipo di dato infatti è:\")\n",
    "print(type(e))"
   ]
  },
  {
   "cell_type": "markdown",
   "id": "499ce4b8",
   "metadata": {},
   "source": [
    "##### ESEMPIO: DIFFERENZA"
   ]
  },
  {
   "cell_type": "code",
   "execution_count": 121,
   "id": "308efe4a",
   "metadata": {},
   "outputs": [
    {
     "name": "stdout",
     "output_type": "stream",
     "text": [
      "La differenza di 10.2 e 8.2 è:\n",
      "2.0\n",
      "Il tipo di dato infatti è:\n",
      "<class 'float'>\n",
      "La differenza di 10.2 e 3 è:\n",
      "7.199999999999999\n",
      "Il tipo di dato infatti è:\n",
      "<class 'float'>\n"
     ]
    }
   ],
   "source": [
    "a = 10.2 # il primo valore è un flot\n",
    "b = 8.2 # il secondo valore è un flot\n",
    "d = 3 # il terzo valore è un integer\n",
    "\n",
    "c = a - b # Si sottragono due float\n",
    "e = a - d # Si sottraggono un float con un int, il risultato da SEMPRE un float\n",
    "print(f\"La differenza di {a} e {b} è:\")\n",
    "print(c)\n",
    "print(\"Il tipo di dato infatti è:\")\n",
    "print(type(c))\n",
    "print(f\"La differenza di {a} e {d} è:\")\n",
    "print(e)\n",
    "print(\"Il tipo di dato infatti è:\")\n",
    "print(type(e))"
   ]
  },
  {
   "cell_type": "markdown",
   "id": "ba4876dc",
   "metadata": {},
   "source": [
    "##### ESEMPIO: DIVISIONE"
   ]
  },
  {
   "cell_type": "code",
   "execution_count": 122,
   "id": "883f11dd",
   "metadata": {},
   "outputs": [
    {
     "name": "stdout",
     "output_type": "stream",
     "text": [
      "La divisione con una barra di 10.2 e 8.2 è:\n",
      "1.2439024390243902\n",
      "Il tipo di dato infatti è\n",
      "<class 'float'>\n",
      "La divisione con due barre di 10.2 e 8.2 è:\n",
      "1.0\n",
      "Il tipo di dato infatti è\n",
      "<class 'float'>\n",
      "La divisione con una barra di 10.2 e 3 è:\n",
      "3.4\n",
      "Il tipo di dato infatti è:\n",
      "<class 'float'>\n",
      "La divisione con due barre di 10.2 e 3 è:\n",
      "3.0\n",
      "Il tipo di dato infatti è:\n",
      "<class 'float'>\n"
     ]
    }
   ],
   "source": [
    "a = 10.2 # il primo valore è un flot\n",
    "b = 8.2 # il secondo valore è un flot\n",
    "d = 3 # il terzo valore è un integer\n",
    "\n",
    "c = a / b # Si esegue la divisione normale\n",
    "c2 = a // b\n",
    "e = a / d # Si esegue comunque la divisione normale, con la divisione con i float la doppia barra non vale, ma approsima per difetto il risultato\n",
    "e2 = a // d\n",
    "\n",
    "print(f\"La divisione con una barra di {a} e {b} è:\")\n",
    "print(c)\n",
    "print(\"Il tipo di dato infatti è\")\n",
    "print(type(c))\n",
    "print(f\"La divisione con due barre di {a} e {b} è:\")\n",
    "print(c2)\n",
    "print(\"Il tipo di dato infatti è\")\n",
    "print(type(c2))\n",
    "print(f\"La divisione con una barra di {a} e {d} è:\")\n",
    "print(e)\n",
    "print(\"Il tipo di dato infatti è:\")\n",
    "print(type(e))\n",
    "print(f\"La divisione con due barre di {a} e {d} è:\")\n",
    "print(e2)\n",
    "print(\"Il tipo di dato infatti è:\")\n",
    "print(type(e2))"
   ]
  },
  {
   "cell_type": "markdown",
   "id": "e8b68871",
   "metadata": {},
   "source": [
    "##### ESEMPIO: MOLTIPLICAZIONE"
   ]
  },
  {
   "cell_type": "code",
   "execution_count": 123,
   "id": "7a9d00cc",
   "metadata": {},
   "outputs": [
    {
     "name": "stdout",
     "output_type": "stream",
     "text": [
      "La moltiplicazione di 10.2 e 8.2 è:\n",
      "83.63999999999999\n",
      "Il tipo di dato infatti è:\n",
      "<class 'float'>\n",
      "La moltiplicazione di 10.2 e 5 è:\n",
      "51.0\n",
      "Il tipo di dato infatti è:\n",
      "<class 'float'>\n"
     ]
    }
   ],
   "source": [
    "a = 10.2 # il primo valore è un flot\n",
    "b = 8.2 # il secondo valore è un flot\n",
    "d = 5 # il terzo valore è un integer\n",
    "\n",
    "c = a * b # Si esegue la moltiplicazione\n",
    "e = a * d # Si esegue la motliplicazione (non cambia se c'è un int, il risultato sarà sempre un float)\n",
    "\n",
    "print(f\"La moltiplicazione di {a} e {b} è:\")\n",
    "print(c)\n",
    "print(\"Il tipo di dato infatti è:\")\n",
    "print(type(c))\n",
    "print(f\"La moltiplicazione di {a} e {d} è:\")\n",
    "print(e)\n",
    "print(\"Il tipo di dato infatti è:\")\n",
    "print(type(e))"
   ]
  },
  {
   "cell_type": "markdown",
   "id": "436e9199",
   "metadata": {},
   "source": [
    "##### ESEMPIO: POTENZA"
   ]
  },
  {
   "cell_type": "code",
   "execution_count": 124,
   "id": "3bde2afb",
   "metadata": {},
   "outputs": [
    {
     "name": "stdout",
     "output_type": "stream",
     "text": [
      "La potenza di 9.1 e 2.3 è:\n",
      "160.61836559414905\n",
      "Il tipo di dato infatti è:\n",
      "<class 'float'>\n",
      "La differenza di 9.1 e 3 è:\n",
      "753.5709999999999\n",
      "Il tipo di dato infatti è:\n",
      "<class 'float'>\n"
     ]
    }
   ],
   "source": [
    "a = 9.1 # il primo valore è un flot\n",
    "b = 2.3 # il secondo valore è un flot\n",
    "d = 3 # il terzo valore è un integer\n",
    "\n",
    "c = a**b # Si esegue la potenza \n",
    "e = a**d # Si esegue la potenza (non cambia se c'è un int, il risultato sarà sempre un float)\n",
    "\n",
    "print(f\"La potenza di {a} e {b} è:\")\n",
    "print(c)\n",
    "print(\"Il tipo di dato infatti è:\")\n",
    "print(type(c))\n",
    "print(f\"La differenza di {a} e {d} è:\")\n",
    "print(e)\n",
    "print(\"Il tipo di dato infatti è:\")\n",
    "print(type(e))"
   ]
  },
  {
   "cell_type": "markdown",
   "id": "070d5d45",
   "metadata": {},
   "source": [
    "#### I BOOLEANI"
   ]
  },
  {
   "cell_type": "markdown",
   "id": "338b0ac2",
   "metadata": {},
   "source": [
    "I booleani (bool) definiscono i valori di variabili corrispondenti a dei booleani, cioè a True o False (Vero o Falso). Con i booleani possiamo eseguire operazioni logiche di base come l'and, l'or e il not."
   ]
  },
  {
   "cell_type": "code",
   "execution_count": 125,
   "id": "cb456485",
   "metadata": {},
   "outputs": [
    {
     "name": "stdout",
     "output_type": "stream",
     "text": [
      "True\n",
      "Il tipo di dato infatti è:\n",
      "<class 'bool'>\n",
      "False\n",
      "Il tipo di dato infatti è:\n",
      "<class 'bool'>\n"
     ]
    }
   ],
   "source": [
    "a = True\n",
    "b = False\n",
    "print(a)\n",
    "print(\"Il tipo di dato infatti è:\")\n",
    "print(type(a))\n",
    "print(b)\n",
    "print(\"Il tipo di dato infatti è:\")\n",
    "print(type(b))"
   ]
  },
  {
   "cell_type": "markdown",
   "id": "8f4ff602",
   "metadata": {},
   "source": [
    "##### L'AND LOGICO (E LOGICA) COSTRUENDO LA TABELLA DELLA VERITÀ"
   ]
  },
  {
   "cell_type": "code",
   "execution_count": 126,
   "id": "7c820f45",
   "metadata": {},
   "outputs": [
    {
     "name": "stdout",
     "output_type": "stream",
     "text": [
      "L'AND di True e False è:\n",
      "False\n",
      "L'AND di True e True è:\n",
      "True\n",
      "L'AND di False e True è:\n",
      "False\n",
      "L'AND di False e False è:\n",
      "False\n"
     ]
    }
   ],
   "source": [
    "a = True\n",
    "b = False\n",
    "\n",
    "print(f\"L'AND di {a} e {b} è:\")\n",
    "c = a and b\n",
    "print(c)\n",
    "print(f\"L'AND di {a} e {a} è:\")\n",
    "c = a and a\n",
    "print(c)\n",
    "print(f\"L'AND di {b} e {a} è:\")\n",
    "c = a and b\n",
    "print(c)\n",
    "print(f\"L'AND di {b} e {b} è:\")\n",
    "c = b and b\n",
    "print(c)"
   ]
  },
  {
   "cell_type": "markdown",
   "id": "83df2c02",
   "metadata": {},
   "source": [
    "##### L'OR LOGICO (O LOGICO) COSTRUENDO LA TABELLA DELLA VERITÀ"
   ]
  },
  {
   "cell_type": "code",
   "execution_count": 127,
   "id": "22002cee",
   "metadata": {},
   "outputs": [
    {
     "name": "stdout",
     "output_type": "stream",
     "text": [
      "L'OR di True e False è:\n",
      "True\n",
      "L'OR di True e True è:\n",
      "True\n",
      "L'OR di False e True è:\n",
      "True\n",
      "L'OR di False e False è:\n",
      "False\n"
     ]
    }
   ],
   "source": [
    "a = True\n",
    "b = False\n",
    "\n",
    "print(f\"L'OR di {a} e {b} è:\")\n",
    "c = a or b\n",
    "print(c)\n",
    "print(f\"L'OR di {a} e {a} è:\")\n",
    "c = a or a\n",
    "print(c)\n",
    "print(f\"L'OR di {b} e {a} è:\")\n",
    "c = b or a\n",
    "print(c)\n",
    "print(f\"L'OR di {b} e {b} è:\")\n",
    "c = b or b\n",
    "print(c)"
   ]
  },
  {
   "cell_type": "markdown",
   "id": "fe4291b9",
   "metadata": {},
   "source": [
    "##### LA NEGAZIONE (NOT)"
   ]
  },
  {
   "cell_type": "code",
   "execution_count": 128,
   "id": "0309a094",
   "metadata": {},
   "outputs": [
    {
     "name": "stdout",
     "output_type": "stream",
     "text": [
      "Il not di True è:\n",
      "False\n",
      "Il not di False è:\n",
      "True\n"
     ]
    }
   ],
   "source": [
    "a = True\n",
    "b = False\n",
    "\n",
    "print(f\"Il not di {a} è:\")\n",
    "c = not a\n",
    "print(c)\n",
    "print(f\"Il not di {b} è:\")\n",
    "c = not b\n",
    "print(c)"
   ]
  },
  {
   "cell_type": "markdown",
   "id": "0ff3de52",
   "metadata": {},
   "source": [
    "#### I COMPLESSI (COMPLEX)"
   ]
  },
  {
   "cell_type": "markdown",
   "id": "17cae8bb",
   "metadata": {},
   "source": [
    "I complessi (complex) definiscono i valori di variabili corrispondenti a dei numeri complessi. Con i complessi possiamo eseguire operazioni aritmetiche di base per numeri complessi come la somma, la differenza, il prodotto e la divisione."
   ]
  },
  {
   "cell_type": "code",
   "execution_count": 129,
   "id": "2779520c",
   "metadata": {},
   "outputs": [
    {
     "name": "stdout",
     "output_type": "stream",
     "text": [
      "Il risultato di 3 + 1j*3 è:\n",
      "(3+3j)\n",
      "Il tipo di dato infatti è: \n",
      "<class 'complex'>\n"
     ]
    }
   ],
   "source": [
    "# Il numero a sinistra del più (3) si chiama parte reale\n",
    "# Il numero a destra del più (1j*3) si chiama parte immaginaria\n",
    "\n",
    "# I numeri complessi vengono definiti qui sotto\n",
    "a = 3 + 1j*3 # Per creare una variabile complessa bisogna sommare un numero (parte reale) ad una parte immaginaria (valore di j)\n",
    "\n",
    "print(\"Il risultato di 3 + 1j*3 è:\")\n",
    "print(a)\n",
    "print(f\"Il tipo di dato infatti è: \")\n",
    "print(type(a))"
   ]
  },
  {
   "cell_type": "markdown",
   "id": "1f93ef7c",
   "metadata": {},
   "source": [
    "##### ESEMPIO: SOMMA"
   ]
  },
  {
   "cell_type": "code",
   "execution_count": 130,
   "id": "a767bdcb",
   "metadata": {},
   "outputs": [
    {
     "name": "stdout",
     "output_type": "stream",
     "text": [
      "La somma di (3+3j) e (2+2j) è:\n",
      "(5+5j)\n",
      "Il tipo di dato infatti è:\n",
      "<class 'complex'>\n",
      "La somma di (3+3j) e 3.0 è:\n",
      "(6+3j)\n",
      "Il tipo di dato infatti è:\n",
      "<class 'complex'>\n"
     ]
    }
   ],
   "source": [
    "a = 3 + 1j*3 # prima variabile di tipo complex\n",
    "b = 2 + 1j*2 # seconda variabile di tipo complex\n",
    "c = 3.0 # terza variabile di tipo float\n",
    "\n",
    "d = a + b # Si sommano due complessi (e il risultato è sempre un complesso)\n",
    "e = a + c # Si sommano un float con un complesso (e il risultato è sempre un complesso)\n",
    "\n",
    "print(f\"La somma di {a} e {b} è:\")\n",
    "print(d)\n",
    "print(\"Il tipo di dato infatti è:\")\n",
    "print(type(d))\n",
    "print(f\"La somma di {a} e {c} è:\")\n",
    "print(e)\n",
    "print(\"Il tipo di dato infatti è:\")\n",
    "print(type(e))"
   ]
  },
  {
   "cell_type": "markdown",
   "id": "a8491829",
   "metadata": {},
   "source": [
    "##### ESEMPIO: DIFFERENZA"
   ]
  },
  {
   "cell_type": "code",
   "execution_count": 131,
   "id": "01d87449",
   "metadata": {},
   "outputs": [
    {
     "name": "stdout",
     "output_type": "stream",
     "text": [
      "La differenza di (3-3j) e (2-2j) è:\n",
      "(1-1j)\n",
      "Il tipo di dato infatti è:\n",
      "<class 'complex'>\n",
      "La differenza di (3-3j) e 3.0 è:\n",
      "-3j\n",
      "Il tipo di dato infatti è:\n",
      "<class 'complex'>\n"
     ]
    }
   ],
   "source": [
    "a = 3 - 1j*3 # prima variabile di tipo complex\n",
    "b = 2 - 1j*2 # seconda variabile di tipo complex\n",
    "c = 3.0 # terza variabile di tipo float\n",
    "\n",
    "d = a - b # Si sottraggono due complessi (e il risultato è sempre un complesso)\n",
    "e = a - c # Si sottraggono un float con un complesso (e il risultato è solo la parte immaginaria)\n",
    "\n",
    "print(f\"La differenza di {a} e {b} è:\")\n",
    "print(d)\n",
    "print(\"Il tipo di dato infatti è:\")\n",
    "print(type(d))\n",
    "print(f\"La differenza di {a} e {c} è:\")\n",
    "print(e)\n",
    "print(\"Il tipo di dato infatti è:\")\n",
    "print(type(e))"
   ]
  },
  {
   "cell_type": "markdown",
   "id": "1400fc23",
   "metadata": {},
   "source": [
    "##### ESEMPIO: DIVISIONE"
   ]
  },
  {
   "cell_type": "code",
   "execution_count": 132,
   "id": "c8488dd2",
   "metadata": {},
   "outputs": [
    {
     "name": "stdout",
     "output_type": "stream",
     "text": [
      "La divisione di (3+3j) e (2+2j) è:\n",
      "(1.5+0j)\n",
      "Il tipo di dato infatti è\n",
      "<class 'complex'>\n",
      "La divisione di (3+3j) e 3.0 è:\n",
      "(1+1j)\n",
      "Il tipo di dato infatti è\n",
      "<class 'complex'>\n"
     ]
    }
   ],
   "source": [
    "a = 3 + 1j*3 # prima variabile complessa\n",
    "b = 2 + 1j*2 # seconda variabile complessa\n",
    "c = 3.0 # terza variabile float\n",
    "\n",
    "d = a / b # Si dividono due complessi (e il risultato è sempre un complesso)\n",
    "e = a / c # Si dividono un float con un complesso \n",
    "\n",
    "print(f\"La divisione di {a} e {b} è:\")\n",
    "print(d)\n",
    "print(\"Il tipo di dato infatti è\")\n",
    "print(type(d))\n",
    "print(f\"La divisione di {a} e {c} è:\")\n",
    "print(e)\n",
    "print(\"Il tipo di dato infatti è\")\n",
    "print(type(e))"
   ]
  },
  {
   "cell_type": "markdown",
   "id": "afde3732",
   "metadata": {},
   "source": [
    "##### ESEMPIO: MOLTIPLICAZIONE"
   ]
  },
  {
   "cell_type": "code",
   "execution_count": 133,
   "id": "925e3f41",
   "metadata": {},
   "outputs": [
    {
     "name": "stdout",
     "output_type": "stream",
     "text": [
      "La moltiplicazione di (3-3j) e (2-2j) è:\n",
      "-12j\n",
      "Il tipo di dato infatti è\n",
      "<class 'complex'>\n",
      "La moltiplicazione di (3-3j) e 3.0 è:\n",
      "(9-9j)\n",
      "Il tipo di dato infatti è\n",
      "<class 'complex'>\n"
     ]
    }
   ],
   "source": [
    "a = 3 - 1j*3 # prima variabile di tipo complex\n",
    "b = 2 - 1j*2 # seconda variabile di tipo complex\n",
    "c = 3.0 # terza variabile di tipo float\n",
    "\n",
    "d = a * b # Si moltiplicano due complessi (e il risultato è solo la parte immaginaria)\n",
    "e = a * c # Si moltiplicano un float con un complesso (e il risultato è sempre un complesso)\n",
    "\n",
    "print(f\"La moltiplicazione di {a} e {b} è:\")\n",
    "print(d)\n",
    "print(\"Il tipo di dato infatti è\")\n",
    "print(type(d))\n",
    "print(f\"La moltiplicazione di {a} e {c} è:\")\n",
    "print(e)\n",
    "print(\"Il tipo di dato infatti è\")\n",
    "print(type(e))"
   ]
  },
  {
   "cell_type": "markdown",
   "id": "379933e3",
   "metadata": {},
   "source": [
    "##### ESEMPIO: POTENZA"
   ]
  },
  {
   "cell_type": "code",
   "execution_count": 134,
   "id": "50fecd63",
   "metadata": {},
   "outputs": [
    {
     "name": "stdout",
     "output_type": "stream",
     "text": [
      "La moltiplicazione di (3-3j) e (2-2j) è:\n",
      "(-0.9301698201642012+3.6243749286074007j)\n",
      "Il tipo di dato infatti è\n",
      "<class 'complex'>\n",
      "La moltiplicazione di (3-3j) e 3.0 è:\n",
      "(-54-54j)\n",
      "Il tipo di dato infatti è\n",
      "<class 'complex'>\n"
     ]
    }
   ],
   "source": [
    "a = 3 - 1j*3 # prima variabile di tipo complex\n",
    "b = 2 - 1j*2 # seconda variabile di tipo complex\n",
    "c = 3.0 # terza variabile di tipo float\n",
    "\n",
    "d = a ** b # Si moltiplicano due complessi (e il risultato è solo la parte immaginaria)\n",
    "e = a ** c # Si moltiplicano un float con un complesso (e il risultato è sempre un complesso)\n",
    "\n",
    "print(f\"La moltiplicazione di {a} e {b} è:\")\n",
    "print(d)\n",
    "print(\"Il tipo di dato infatti è\")\n",
    "print(type(d))\n",
    "print(f\"La moltiplicazione di {a} e {c} è:\")\n",
    "print(e)\n",
    "print(\"Il tipo di dato infatti è\")\n",
    "print(type(e))"
   ]
  },
  {
   "cell_type": "markdown",
   "id": "d7fd7c56",
   "metadata": {},
   "source": [
    "## I TIPI DI DATI NON SEMPLICI (LE SEQUENZE)"
   ]
  },
  {
   "cell_type": "markdown",
   "id": "0343d912",
   "metadata": {},
   "source": [
    "Le sequenze sono i tipi di dati più complessi, cioè più strutturati rispetto a quelli semplici, e contengono tipi di dati semplici mantenendo un ordine (ad eccezione della stringa, poichè definisce una parola o frase con una sequenza di caratteri)."
   ]
  },
  {
   "cell_type": "markdown",
   "id": "970c3a76",
   "metadata": {},
   "source": [
    "Le sequenze si dividono in mutabili e immutabili. La differenza nel fatto che le mutabili sono sequenze che possono cambiare dopo essere state create, invece le sequenze immutabili sono sequenze che possono cambiare dopo essere state create."
   ]
  },
  {
   "cell_type": "markdown",
   "id": "6cbfa1d9",
   "metadata": {},
   "source": [
    "Le sequenze mutabili sono:\n",
    "- Le liste (list)\n",
    "- I dizionari (dict)\n",
    "- Gli insiemi (set)\n",
    "- I file (file)"
   ]
  },
  {
   "cell_type": "markdown",
   "id": "60a758c5",
   "metadata": {},
   "source": [
    "### LE SEQUENZE MUTABILI"
   ]
  },
  {
   "cell_type": "markdown",
   "id": "fff8dcfe",
   "metadata": {},
   "source": [
    "#### LE LISTE"
   ]
  },
  {
   "cell_type": "code",
   "execution_count": 135,
   "id": "cb3299d0",
   "metadata": {},
   "outputs": [
    {
     "name": "stdout",
     "output_type": "stream",
     "text": [
      "[7, 12, 18, 33, 5, 44, 88, 99, 112]\n"
     ]
    }
   ],
   "source": [
    "lista_numerica = [7, 12, 18, 33, 5, 44, 88, 99, 112]\n",
    "print(lista_numerica)"
   ]
  },
  {
   "cell_type": "code",
   "execution_count": 136,
   "id": "807430b9",
   "metadata": {},
   "outputs": [
    {
     "name": "stdout",
     "output_type": "stream",
     "text": [
      "['a', 'c', 'q', 'k', 'ciao', 'Matteo', 'Vittorio', 'Mattia', 'come va?']\n"
     ]
    }
   ],
   "source": [
    "lista_con_caratteri = [\"a\",\"c\",\"q\",\"k\",\"ciao\",\"Matteo\",\"Vittorio\",\"Mattia\",\"come va?\"]\n",
    "print(lista_con_caratteri)"
   ]
  },
  {
   "cell_type": "code",
   "execution_count": 137,
   "id": "a42bc0df",
   "metadata": {},
   "outputs": [
    {
     "name": "stdout",
     "output_type": "stream",
     "text": [
      "['12', '3', '5', 12, 18, 33, 5, 44, 'ciao', 'Matteo', 'Vittorio', 'Mattia', 'come va?']\n"
     ]
    }
   ],
   "source": [
    "lista_mista = [\"12\",\"3\",\"5\", 12, 18, 33, 5, 44,\"ciao\",\"Matteo\",\"Vittorio\",\"Mattia\",\"come va?\"]\n",
    "print(lista_mista)"
   ]
  },
  {
   "cell_type": "code",
   "execution_count": 138,
   "id": "b3c4a39c",
   "metadata": {},
   "outputs": [
    {
     "name": "stdout",
     "output_type": "stream",
     "text": [
      "[7, 12, 18, 33, 5, 44, 88, 99, 112, 12]\n"
     ]
    }
   ],
   "source": [
    "lista_numerica.append(12)\n",
    "print(lista_numerica)"
   ]
  },
  {
   "cell_type": "code",
   "execution_count": 139,
   "id": "f5012210",
   "metadata": {},
   "outputs": [
    {
     "name": "stdout",
     "output_type": "stream",
     "text": [
      "['a', 'c', 'q', 'k', 'ciao', 'Matteo', 'Vittorio', 'Mattia', 'come va?', 'Python']\n"
     ]
    }
   ],
   "source": [
    "lista_con_caratteri.append(\"Python\")\n",
    "print(lista_con_caratteri)"
   ]
  },
  {
   "cell_type": "code",
   "execution_count": 140,
   "id": "b0257904",
   "metadata": {},
   "outputs": [
    {
     "name": "stdout",
     "output_type": "stream",
     "text": [
      "[7, 12, 18, 33, 5, 44, 88, 99, 12]\n"
     ]
    }
   ],
   "source": [
    "lista_numerica.remove(112)\n",
    "print(lista_numerica)"
   ]
  },
  {
   "cell_type": "code",
   "execution_count": 141,
   "id": "3e1b4dc3",
   "metadata": {},
   "outputs": [
    {
     "name": "stdout",
     "output_type": "stream",
     "text": [
      "[7, 12, 18, 5, 44, 88, 99, 12]\n"
     ]
    }
   ],
   "source": [
    "lista_numerica.pop(3)\n",
    "print(lista_numerica)"
   ]
  },
  {
   "cell_type": "markdown",
   "id": "194150da",
   "metadata": {},
   "source": [
    "#### I DIZIONARI"
   ]
  },
  {
   "cell_type": "code",
   "execution_count": 147,
   "id": "8a5d7cf2",
   "metadata": {},
   "outputs": [],
   "source": [
    "dizionario = {}"
   ]
  },
  {
   "cell_type": "code",
   "execution_count": 148,
   "id": "bca17bd5",
   "metadata": {},
   "outputs": [],
   "source": [
    "dizionario = {}\n",
    "dizionario['chiave1'] = 'valore1'\n",
    "dizionario['chiave2'] = 'valore2'"
   ]
  },
  {
   "cell_type": "code",
   "execution_count": 149,
   "id": "104d85e4",
   "metadata": {},
   "outputs": [
    {
     "name": "stdout",
     "output_type": "stream",
     "text": [
      "valore1\n"
     ]
    }
   ],
   "source": [
    "print(dizionario['chiave1'])  # Output: 'valore1'"
   ]
  },
  {
   "cell_type": "code",
   "execution_count": 152,
   "id": "b3d65276",
   "metadata": {},
   "outputs": [
    {
     "name": "stdout",
     "output_type": "stream",
     "text": [
      "no\n"
     ]
    }
   ],
   "source": [
    "if 'chiave33' in dizionario:\n",
    "    print(\"La chiave 'chiave1' è presente nel dizionario.\")\n",
    "else:\n",
    "    print(\"no\")"
   ]
  },
  {
   "cell_type": "markdown",
   "id": "4ae27ef3",
   "metadata": {},
   "source": [
    "### LE SEQUENZE IMMMUTABILI"
   ]
  },
  {
   "cell_type": "markdown",
   "id": "565a9205",
   "metadata": {},
   "source": [
    "Le sequenze immutabili sono:\n",
    "- Le stringhe (str)\n",
    "- Le tuple (tuple)\n",
    "- Gli insiemi immutabili (frozenset)"
   ]
  },
  {
   "cell_type": "markdown",
   "id": "3664d87b",
   "metadata": {},
   "source": [
    "#### LE STRINGHE"
   ]
  },
  {
   "cell_type": "code",
   "execution_count": 158,
   "id": "4dfc7c1e",
   "metadata": {},
   "outputs": [],
   "source": [
    "stringa = \"Ciao mondo!\""
   ]
  },
  {
   "cell_type": "code",
   "execution_count": 159,
   "id": "b971f722",
   "metadata": {},
   "outputs": [],
   "source": [
    "stringa1 = \"Ciao\"\n",
    "stringa2 = \" mondo!\"\n",
    "concatenata = stringa1 + stringa2"
   ]
  },
  {
   "cell_type": "code",
   "execution_count": 161,
   "id": "086e97ca",
   "metadata": {},
   "outputs": [
    {
     "name": "stdout",
     "output_type": "stream",
     "text": [
      "iao \n"
     ]
    }
   ],
   "source": [
    "sottostringa = stringa[1:5]  # Ottiene i caratteri dalla posizione 1 alla 4"
   ]
  },
  {
   "cell_type": "code",
   "execution_count": 163,
   "id": "f60952ab",
   "metadata": {},
   "outputs": [
    {
     "data": {
      "text/plain": [
       "'Salve mondo!'"
      ]
     },
     "execution_count": 163,
     "metadata": {},
     "output_type": "execute_result"
    }
   ],
   "source": [
    "nuova_stringa = stringa.replace(\"Ciao\", \"Salve\")\n",
    "nuova_stringa"
   ]
  },
  {
   "cell_type": "markdown",
   "id": "8025fc0f",
   "metadata": {},
   "source": [
    "#### LE TUPLE"
   ]
  },
  {
   "cell_type": "code",
   "execution_count": 153,
   "id": "bef27791",
   "metadata": {},
   "outputs": [],
   "source": [
    "tupla = (1, 2, 3)\n",
    "print(tupla)"
   ]
  },
  {
   "cell_type": "code",
   "execution_count": 155,
   "id": "81423f0f",
   "metadata": {},
   "outputs": [
    {
     "name": "stdout",
     "output_type": "stream",
     "text": [
      "(1, 2, 3)\n"
     ]
    }
   ],
   "source": [
    "tupla = (1, 2, 3)\n",
    "primo_elemento = tupla[0]\n",
    "secondo_elemento = tupla[1]\n",
    "print(tupla)"
   ]
  },
  {
   "cell_type": "code",
   "execution_count": 157,
   "id": "77e5f5fe",
   "metadata": {},
   "outputs": [
    {
     "name": "stdout",
     "output_type": "stream",
     "text": [
      "(1, 2, 3, 4, 5)\n"
     ]
    }
   ],
   "source": [
    "tupla = (1, 2, 3, 4, 5)\n",
    "lunghezza = len(tupla)\n",
    "print(tupla)"
   ]
  }
 ],
 "metadata": {
  "kernelspec": {
   "display_name": "Python 3 (ipykernel)",
   "language": "python",
   "name": "python3"
  },
  "language_info": {
   "codemirror_mode": {
    "name": "ipython",
    "version": 3
   },
   "file_extension": ".py",
   "mimetype": "text/x-python",
   "name": "python",
   "nbconvert_exporter": "python",
   "pygments_lexer": "ipython3",
   "version": "3.11.4"
  }
 },
 "nbformat": 4,
 "nbformat_minor": 5
}
