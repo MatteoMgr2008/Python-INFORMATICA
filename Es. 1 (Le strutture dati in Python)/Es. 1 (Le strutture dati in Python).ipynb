{
 "cells": [
  {
   "cell_type": "markdown",
   "id": "329667bc",
   "metadata": {},
   "source": [
    "# LE STRUTTURE E TIPI DI DATI IN PYTHON"
   ]
  },
  {
   "cell_type": "markdown",
   "id": "162de283",
   "metadata": {},
   "source": [
    "In questa esercitazione vengono mostrati le principali strutture e i tipi di dati in Python."
   ]
  },
  {
   "cell_type": "markdown",
   "id": "145f3cc2",
   "metadata": {},
   "source": [
    "## I TIPI DI DATI"
   ]
  },
  {
   "cell_type": "markdown",
   "id": "50ec003f",
   "metadata": {},
   "source": [
    "I tipi di dati servono per definire dei valori che una variabile può assumere e per definire le operazioni che quella variabile può fare.\n",
    "I tipi di dati possono essere semplici oppure non semplici, cioè le sequenze."
   ]
  },
  {
   "cell_type": "markdown",
   "id": "b29257b6",
   "metadata": {},
   "source": [
    "### I TIPI DI DATI SEMPLICI"
   ]
  },
  {
   "cell_type": "markdown",
   "id": "c8ac962d",
   "metadata": {},
   "source": [
    "I tipi di dati semplici sono i tipi di dati fondamentali per lo sviluppo di Python, come per qualsiasi linguaggio di programmazione."
   ]
  },
  {
   "cell_type": "markdown",
   "id": "a63cca28",
   "metadata": {},
   "source": [
    "I tipi di dati semplici sono:\n",
    "- Gli integer (int)\n",
    "- I float (float)\n",
    "- I boolean (bool)\n",
    "- I complex (complex)\n",
    "- I long (long)\n",
    "- I char (chr)"
   ]
  },
  {
   "cell_type": "markdown",
   "id": "c4d643dd",
   "metadata": {},
   "source": [
    "#### GLI INTEGER"
   ]
  },
  {
   "cell_type": "markdown",
   "id": "7882e2d0",
   "metadata": {},
   "source": [
    "Gli integer (int) definiscono i valori di variabili corrispondenti a dei numeri interi (solo a numeri interi, non a numeri decimali). Con gli integer si possono eseguire operazioni aritmetiche di base come la somma, la differenza, il prodotto, la divisione, la potenza "
   ]
  },
  {
   "cell_type": "code",
   "execution_count": 319,
   "id": "4d0ccddf",
   "metadata": {},
   "outputs": [
    {
     "name": "stdout",
     "output_type": "stream",
     "text": [
      "10\n",
      "Il tipo di dato infatti è:\n",
      "<class 'int'>\n"
     ]
    }
   ],
   "source": [
    "a = 10 # Valore integer \n",
    "print(a)\n",
    "print(\"Il tipo di dato infatti è:\")\n",
    "print(type(a)) # attravero il comando type è possibile sapere il tipo di dato in Python"
   ]
  },
  {
   "cell_type": "markdown",
   "id": "04f6e4cc",
   "metadata": {},
   "source": [
    "##### ESEMPIO: SOMMA"
   ]
  },
  {
   "cell_type": "markdown",
   "id": "e019ae6a",
   "metadata": {},
   "source": [
    "Questo codice è un esempio di somma di due numeri interi (due variabili con valori integer)"
   ]
  },
  {
   "cell_type": "code",
   "execution_count": 320,
   "id": "6ec4c412",
   "metadata": {},
   "outputs": [
    {
     "name": "stdout",
     "output_type": "stream",
     "text": [
      "La somma di 10 e 8 è:\n",
      "18\n",
      "Il tipo di dato infatti è:\n",
      "<class 'int'>\n"
     ]
    }
   ],
   "source": [
    "a = 10 # il primo valore è integer\n",
    "b = 8 # il secondo valore è integer\n",
    "c = a + b\n",
    "print(f\"La somma di {a} e {b} è:\")\n",
    "print(c)\n",
    "print(\"Il tipo di dato infatti è:\")\n",
    "print(type(c))"
   ]
  },
  {
   "cell_type": "markdown",
   "id": "722ff987",
   "metadata": {},
   "source": [
    "##### ESEMPIO: DIFFERENZA"
   ]
  },
  {
   "cell_type": "markdown",
   "id": "281286da",
   "metadata": {},
   "source": [
    "Questo codice è un esempio di differenza di due numeri interi (due variabili con valori integer)"
   ]
  },
  {
   "cell_type": "code",
   "execution_count": 321,
   "id": "34b9a05e",
   "metadata": {},
   "outputs": [
    {
     "name": "stdout",
     "output_type": "stream",
     "text": [
      "La differenza di 10 e 8 è:\n",
      "2\n",
      "Il tipo di dato infatti è:\n",
      "<class 'int'>\n"
     ]
    }
   ],
   "source": [
    "a = 10 # il primo valore è integer\n",
    "b = 8 # il secondo valore è integer\n",
    "c = a - b\n",
    "print(f\"La differenza di {a} e {b} è:\")\n",
    "print(c)\n",
    "print(\"Il tipo di dato infatti è:\")\n",
    "print(type(c)) "
   ]
  },
  {
   "cell_type": "markdown",
   "id": "fd68fe43",
   "metadata": {},
   "source": [
    "##### ESEMPIO: DIVISIONE"
   ]
  },
  {
   "cell_type": "markdown",
   "id": "c020f1f8",
   "metadata": {},
   "source": [
    "Questo codice è un esempio di divisione di due numeri interi (due variabili con valori integer)"
   ]
  },
  {
   "cell_type": "code",
   "execution_count": 322,
   "id": "df3e19da",
   "metadata": {},
   "outputs": [
    {
     "name": "stdout",
     "output_type": "stream",
     "text": [
      "La divisione normale di 10 e 2 è:\n",
      "5.0\n",
      "Il tipo di dato della divisione normale infatti è:\n",
      "<class 'float'>\n",
      "La divisione con solo la parte intera di 10 e 2 è:\n",
      "5\n",
      "Il tipo di dato della divisione con solo la parte intera infatti è:\n",
      "<class 'int'>\n"
     ]
    }
   ],
   "source": [
    "a = 10 # il primo valore è integer\n",
    "b = 2 # il secondo valore è integer\n",
    "c = a / b # Esegue la divisione normale (ritorna sempre un float)\n",
    "d = a // b # Esegue la divisione ritornando solo la parte intera (ritorna sempre un int), si usano le due barre anzichè una barra sola\n",
    "print(f\"La divisione normale di {a} e {b} è:\")\n",
    "print(c)\n",
    "print(\"Il tipo di dato della divisione normale infatti è:\")\n",
    "print(type(c))\n",
    "print(f\"La divisione con solo la parte intera di {a} e {b} è:\")\n",
    "print(d)\n",
    "print(\"Il tipo di dato della divisione con solo la parte intera infatti è:\")\n",
    "print(type(d))"
   ]
  },
  {
   "cell_type": "markdown",
   "id": "a41ba2e9",
   "metadata": {},
   "source": [
    "##### ESEMPIO: MOLTIPLICAZIONE"
   ]
  },
  {
   "cell_type": "markdown",
   "id": "8fc427c2",
   "metadata": {},
   "source": [
    "Questo codice è un esempio di prodotto di due numeri interi (due variabili con valori integer)"
   ]
  },
  {
   "cell_type": "code",
   "execution_count": 323,
   "id": "4911fe62",
   "metadata": {},
   "outputs": [
    {
     "name": "stdout",
     "output_type": "stream",
     "text": [
      "La moltiplicazione di 8 e 2 è:\n",
      "16\n",
      "Il tipo di dato della moltiplicazione infatti è:\n",
      "<class 'int'>\n"
     ]
    }
   ],
   "source": [
    "a = 8 # il primo valore è integer\n",
    "b = 2 # il secondo valore è integer\n",
    "c = a * b # Esegue la moltiplicazione (si usa sempre l'asterisco)\n",
    "\n",
    "print(f\"La moltiplicazione di {a} e {b} è:\")\n",
    "print(c)\n",
    "print(\"Il tipo di dato della moltiplicazione infatti è:\")\n",
    "print(type(c))"
   ]
  },
  {
   "cell_type": "markdown",
   "id": "e946580a",
   "metadata": {},
   "source": [
    "##### ESEMPIO: POTENZA"
   ]
  },
  {
   "cell_type": "markdown",
   "id": "044a8299",
   "metadata": {},
   "source": [
    "Questo codice è un esempio di calcolo della potenza di un numero (variabile integer a) calcolato alla seconda (perchè è il valore della variabile integer b)"
   ]
  },
  {
   "cell_type": "code",
   "execution_count": 324,
   "id": "91c28613",
   "metadata": {},
   "outputs": [
    {
     "name": "stdout",
     "output_type": "stream",
     "text": [
      "La potenza di 8 e 2 è:\n",
      "64\n",
      "Il tipo di dato della potenza infatti è:\n",
      "<class 'int'>\n"
     ]
    }
   ],
   "source": [
    "a = 8 # il primo valore è integer\n",
    "b = 2 # il secondo valore è integer\n",
    "c = a ** b # Esegue la potenza (si usa sempre il doppio asterisco)\n",
    "\n",
    "print(f\"La potenza di {a} e {b} è:\")\n",
    "print(c)\n",
    "print(\"Il tipo di dato della potenza infatti è:\")\n",
    "print(type(c))"
   ]
  },
  {
   "cell_type": "markdown",
   "id": "c59babf0",
   "metadata": {},
   "source": [
    "#### I FLOAT"
   ]
  },
  {
   "cell_type": "markdown",
   "id": "4fa2131a",
   "metadata": {},
   "source": [
    "I float (float) definiscono i valori di variabili corrispondenti a dei numeri con la virgola. Con i float si possono eseguire operazioni aritmetiche di base come la somma, la differenza, il prodotto, la divisione, la potenza ma con i numeri decimali"
   ]
  },
  {
   "cell_type": "code",
   "execution_count": 325,
   "id": "776f9eea",
   "metadata": {},
   "outputs": [
    {
     "name": "stdout",
     "output_type": "stream",
     "text": [
      "12.3\n",
      "Il tipo di dato infatti è:\n",
      "<class 'float'>\n"
     ]
    }
   ],
   "source": [
    "a = 12.3 # Valore float \n",
    "print(a)\n",
    "print(\"Il tipo di dato infatti è:\")\n",
    "print(type(a))"
   ]
  },
  {
   "cell_type": "markdown",
   "id": "e2367dc6",
   "metadata": {},
   "source": [
    "##### ESEMPIO: SOMMA"
   ]
  },
  {
   "cell_type": "markdown",
   "id": "353f7f1b",
   "metadata": {},
   "source": [
    "Questo codice è un esempio di somma di due numeri reali (due variabili con valori float)"
   ]
  },
  {
   "cell_type": "code",
   "execution_count": 326,
   "id": "e9077d94",
   "metadata": {},
   "outputs": [
    {
     "name": "stdout",
     "output_type": "stream",
     "text": [
      "La somma di 10.2 e 8.2 è:\n",
      "18.4\n",
      "Il tipo di dato infatti è:\n",
      "<class 'float'>\n",
      "La somma di 10.2 e 3 è:\n",
      "13.2\n",
      "Il tipo di dato infatti è:\n",
      "<class 'float'>\n"
     ]
    }
   ],
   "source": [
    "a = 10.2 # il primo valore è un flot\n",
    "b = 8.2 # il secondo valore è un flot\n",
    "d = 3 # il terzo valore è un integer\n",
    "\n",
    "c = a + b # Si sommano i due float\n",
    "e = a + d # Si sommano un float con un int, il risultato da SEMPRE un float\n",
    "print(f\"La somma di {a} e {b} è:\")\n",
    "print(c)\n",
    "print(\"Il tipo di dato infatti è:\")\n",
    "print(type(c))\n",
    "print(f\"La somma di {a} e {d} è:\")\n",
    "print(e)\n",
    "print(\"Il tipo di dato infatti è:\")\n",
    "print(type(e))"
   ]
  },
  {
   "cell_type": "markdown",
   "id": "499ce4b8",
   "metadata": {},
   "source": [
    "##### ESEMPIO: DIFFERENZA"
   ]
  },
  {
   "cell_type": "markdown",
   "id": "4af0743f",
   "metadata": {},
   "source": [
    "Questo codice è un esempio di differenza di due numeri reali (due variabili con valori float)"
   ]
  },
  {
   "cell_type": "code",
   "execution_count": 327,
   "id": "308efe4a",
   "metadata": {},
   "outputs": [
    {
     "name": "stdout",
     "output_type": "stream",
     "text": [
      "La differenza di 10.2 e 8.2 è:\n",
      "2.0\n",
      "Il tipo di dato infatti è:\n",
      "<class 'float'>\n",
      "La differenza di 10.2 e 3 è:\n",
      "7.199999999999999\n",
      "Il tipo di dato infatti è:\n",
      "<class 'float'>\n"
     ]
    }
   ],
   "source": [
    "a = 10.2 # il primo valore è un flot\n",
    "b = 8.2 # il secondo valore è un flot\n",
    "d = 3 # il terzo valore è un integer\n",
    "\n",
    "c = a - b # Si sottragono due float\n",
    "e = a - d # Si sottraggono un float con un int, il risultato da SEMPRE un float\n",
    "print(f\"La differenza di {a} e {b} è:\")\n",
    "print(c)\n",
    "print(\"Il tipo di dato infatti è:\")\n",
    "print(type(c))\n",
    "print(f\"La differenza di {a} e {d} è:\")\n",
    "print(e)\n",
    "print(\"Il tipo di dato infatti è:\")\n",
    "print(type(e))"
   ]
  },
  {
   "cell_type": "markdown",
   "id": "ba4876dc",
   "metadata": {},
   "source": [
    "##### ESEMPIO: DIVISIONE"
   ]
  },
  {
   "cell_type": "markdown",
   "id": "0805dea0",
   "metadata": {},
   "source": [
    "Questo codice è un esempio di divisione di due numeri reali (due variabili con valori float)"
   ]
  },
  {
   "cell_type": "code",
   "execution_count": 328,
   "id": "883f11dd",
   "metadata": {},
   "outputs": [
    {
     "name": "stdout",
     "output_type": "stream",
     "text": [
      "La divisione con una barra di 10.2 e 8.2 è:\n",
      "1.2439024390243902\n",
      "Il tipo di dato infatti è\n",
      "<class 'float'>\n",
      "La divisione con due barre di 10.2 e 8.2 è:\n",
      "1.0\n",
      "Il tipo di dato infatti è\n",
      "<class 'float'>\n",
      "La divisione con una barra di 10.2 e 3 è:\n",
      "3.4\n",
      "Il tipo di dato infatti è:\n",
      "<class 'float'>\n",
      "La divisione con due barre di 10.2 e 3 è:\n",
      "3.0\n",
      "Il tipo di dato infatti è:\n",
      "<class 'float'>\n"
     ]
    }
   ],
   "source": [
    "a = 10.2 # il primo valore è un flot\n",
    "b = 8.2 # il secondo valore è un flot\n",
    "d = 3 # il terzo valore è un integer\n",
    "\n",
    "c = a / b # Si esegue la divisione normale\n",
    "c2 = a // b\n",
    "e = a / d # Si esegue comunque la divisione normale, con la divisione con i float la doppia barra non vale, ma approsima per difetto il risultato\n",
    "e2 = a // d\n",
    "\n",
    "print(f\"La divisione con una barra di {a} e {b} è:\")\n",
    "print(c)\n",
    "print(\"Il tipo di dato infatti è\")\n",
    "print(type(c))\n",
    "print(f\"La divisione con due barre di {a} e {b} è:\")\n",
    "print(c2)\n",
    "print(\"Il tipo di dato infatti è\")\n",
    "print(type(c2))\n",
    "print(f\"La divisione con una barra di {a} e {d} è:\")\n",
    "print(e)\n",
    "print(\"Il tipo di dato infatti è:\")\n",
    "print(type(e))\n",
    "print(f\"La divisione con due barre di {a} e {d} è:\")\n",
    "print(e2)\n",
    "print(\"Il tipo di dato infatti è:\")\n",
    "print(type(e2))"
   ]
  },
  {
   "cell_type": "markdown",
   "id": "e8b68871",
   "metadata": {},
   "source": [
    "##### ESEMPIO: MOLTIPLICAZIONE"
   ]
  },
  {
   "cell_type": "markdown",
   "id": "d84fc8e0",
   "metadata": {},
   "source": [
    "Questo codice è un esempio di prodotto di due numeri reali (due variabili con valori float)"
   ]
  },
  {
   "cell_type": "code",
   "execution_count": 329,
   "id": "7a9d00cc",
   "metadata": {},
   "outputs": [
    {
     "name": "stdout",
     "output_type": "stream",
     "text": [
      "La moltiplicazione di 10.2 e 8.2 è:\n",
      "83.63999999999999\n",
      "Il tipo di dato infatti è:\n",
      "<class 'float'>\n",
      "La moltiplicazione di 10.2 e 5 è:\n",
      "51.0\n",
      "Il tipo di dato infatti è:\n",
      "<class 'float'>\n"
     ]
    }
   ],
   "source": [
    "a = 10.2 # il primo valore è un flot\n",
    "b = 8.2 # il secondo valore è un flot\n",
    "d = 5 # il terzo valore è un integer\n",
    "\n",
    "c = a * b # Si esegue la moltiplicazione\n",
    "e = a * d # Si esegue la motliplicazione (non cambia se c'è un int, il risultato sarà sempre un float)\n",
    "\n",
    "print(f\"La moltiplicazione di {a} e {b} è:\")\n",
    "print(c)\n",
    "print(\"Il tipo di dato infatti è:\")\n",
    "print(type(c))\n",
    "print(f\"La moltiplicazione di {a} e {d} è:\")\n",
    "print(e)\n",
    "print(\"Il tipo di dato infatti è:\")\n",
    "print(type(e))"
   ]
  },
  {
   "cell_type": "markdown",
   "id": "436e9199",
   "metadata": {},
   "source": [
    "##### ESEMPIO: POTENZA"
   ]
  },
  {
   "cell_type": "markdown",
   "id": "f201d2a4",
   "metadata": {},
   "source": [
    "Questo codice è un esempio di calcolo della potenza di un numero (variabile float a) calcolato alla seconda (perchè è il valore della variabile float b)"
   ]
  },
  {
   "cell_type": "code",
   "execution_count": 330,
   "id": "3bde2afb",
   "metadata": {},
   "outputs": [
    {
     "name": "stdout",
     "output_type": "stream",
     "text": [
      "La potenza di 9.1 e 2.3 è:\n",
      "160.61836559414905\n",
      "Il tipo di dato infatti è:\n",
      "<class 'float'>\n",
      "La differenza di 9.1 e 3 è:\n",
      "753.5709999999999\n",
      "Il tipo di dato infatti è:\n",
      "<class 'float'>\n"
     ]
    }
   ],
   "source": [
    "a = 9.1 # il primo valore è un flot\n",
    "b = 2.3 # il secondo valore è un flot\n",
    "d = 3 # il terzo valore è un integer\n",
    "\n",
    "c = a**b # Si esegue la potenza \n",
    "e = a**d # Si esegue la potenza (non cambia se c'è un int, il risultato sarà sempre un float)\n",
    "\n",
    "print(f\"La potenza di {a} e {b} è:\")\n",
    "print(c)\n",
    "print(\"Il tipo di dato infatti è:\")\n",
    "print(type(c))\n",
    "print(f\"La differenza di {a} e {d} è:\")\n",
    "print(e)\n",
    "print(\"Il tipo di dato infatti è:\")\n",
    "print(type(e))"
   ]
  },
  {
   "cell_type": "markdown",
   "id": "070d5d45",
   "metadata": {},
   "source": [
    "#### I BOOLEANI"
   ]
  },
  {
   "cell_type": "markdown",
   "id": "338b0ac2",
   "metadata": {},
   "source": [
    "I booleani (bool) definiscono i valori di variabili corrispondenti a dei booleani, cioè a True o False (Vero o Falso). Con i booleani possiamo eseguire operazioni logiche di base come l'and, l'or e il not."
   ]
  },
  {
   "cell_type": "code",
   "execution_count": 331,
   "id": "cb456485",
   "metadata": {},
   "outputs": [
    {
     "name": "stdout",
     "output_type": "stream",
     "text": [
      "True\n",
      "Il tipo di dato infatti è:\n",
      "<class 'bool'>\n",
      "False\n",
      "Il tipo di dato infatti è:\n",
      "<class 'bool'>\n"
     ]
    }
   ],
   "source": [
    "a = True # Valore booleano positivo\n",
    "b = False # Valore booleano negativo\n",
    "print(a)\n",
    "print(\"Il tipo di dato infatti è:\")\n",
    "print(type(a))\n",
    "print(b)\n",
    "print(\"Il tipo di dato infatti è:\")\n",
    "print(type(b))"
   ]
  },
  {
   "cell_type": "markdown",
   "id": "8f4ff602",
   "metadata": {},
   "source": [
    "##### L'AND LOGICO (E LOGICA) COSTRUENDO LA TABELLA DELLA VERITÀ"
   ]
  },
  {
   "cell_type": "code",
   "execution_count": 332,
   "id": "7c820f45",
   "metadata": {},
   "outputs": [
    {
     "name": "stdout",
     "output_type": "stream",
     "text": [
      "L'AND di True e False è:\n",
      "False\n",
      "L'AND di True e True è:\n",
      "True\n",
      "L'AND di False e True è:\n",
      "False\n",
      "L'AND di False e False è:\n",
      "False\n"
     ]
    }
   ],
   "source": [
    "a = True\n",
    "b = False\n",
    "\n",
    "# Quando c'è False prevale sempre quest'ultimo come output finale\n",
    "\n",
    "print(f\"L'AND di {a} e {b} è:\")\n",
    "c = a and b\n",
    "print(c)\n",
    "print(f\"L'AND di {a} e {a} è:\")\n",
    "c = a and a\n",
    "print(c)\n",
    "print(f\"L'AND di {b} e {a} è:\")\n",
    "c = a and b\n",
    "print(c)\n",
    "print(f\"L'AND di {b} e {b} è:\")\n",
    "c = b and b\n",
    "print(c)"
   ]
  },
  {
   "cell_type": "markdown",
   "id": "83df2c02",
   "metadata": {},
   "source": [
    "##### L'OR LOGICO (O LOGICO) COSTRUENDO LA TABELLA DELLA VERITÀ"
   ]
  },
  {
   "cell_type": "code",
   "execution_count": 333,
   "id": "22002cee",
   "metadata": {},
   "outputs": [
    {
     "name": "stdout",
     "output_type": "stream",
     "text": [
      "L'OR di True e False è:\n",
      "True\n",
      "L'OR di True e True è:\n",
      "True\n",
      "L'OR di False e True è:\n",
      "True\n",
      "L'OR di False e False è:\n",
      "False\n"
     ]
    }
   ],
   "source": [
    "a = True\n",
    "b = False\n",
    "\n",
    "print(f\"L'OR di {a} e {b} è:\")\n",
    "c = a or b\n",
    "print(c)\n",
    "print(f\"L'OR di {a} e {a} è:\")\n",
    "c = a or a\n",
    "print(c)\n",
    "print(f\"L'OR di {b} e {a} è:\")\n",
    "c = b or a\n",
    "print(c)\n",
    "print(f\"L'OR di {b} e {b} è:\")\n",
    "c = b or b\n",
    "print(c)"
   ]
  },
  {
   "cell_type": "markdown",
   "id": "fe4291b9",
   "metadata": {},
   "source": [
    "##### LA NEGAZIONE (NOT)"
   ]
  },
  {
   "cell_type": "code",
   "execution_count": 334,
   "id": "0309a094",
   "metadata": {},
   "outputs": [
    {
     "name": "stdout",
     "output_type": "stream",
     "text": [
      "Il not di True è:\n",
      "False\n",
      "Il not di False è:\n",
      "True\n"
     ]
    }
   ],
   "source": [
    "a = True\n",
    "b = False\n",
    "\n",
    "print(f\"Il not di {a} è:\")\n",
    "c = not a\n",
    "print(c)\n",
    "print(f\"Il not di {b} è:\")\n",
    "c = not b\n",
    "print(c)"
   ]
  },
  {
   "cell_type": "markdown",
   "id": "0ff3de52",
   "metadata": {},
   "source": [
    "#### I COMPLESSI (COMPLEX)"
   ]
  },
  {
   "cell_type": "markdown",
   "id": "17cae8bb",
   "metadata": {},
   "source": [
    "I complessi (complex) definiscono i valori di variabili corrispondenti a dei numeri complessi. Con i complessi possiamo eseguire operazioni aritmetiche di base per numeri complessi come la somma, la differenza, il prodotto e la divisione."
   ]
  },
  {
   "cell_type": "code",
   "execution_count": 335,
   "id": "2779520c",
   "metadata": {},
   "outputs": [
    {
     "name": "stdout",
     "output_type": "stream",
     "text": [
      "Il risultato di 3 + 1j*3 è:\n",
      "(3+3j)\n",
      "Il tipo di dato infatti è: \n",
      "<class 'complex'>\n"
     ]
    }
   ],
   "source": [
    "# Il numero a sinistra del più (3) si chiama parte reale\n",
    "# Il numero a destra del più (1j*3) si chiama parte immaginaria\n",
    "\n",
    "# I numeri complessi vengono definiti qui sotto\n",
    "a = 3 + 1j*3 # Per creare una variabile complessa bisogna sommare un numero (parte reale) ad una parte immaginaria (valore di j)\n",
    "\n",
    "print(\"Il risultato di 3 + 1j*3 è:\")\n",
    "print(a)\n",
    "print(f\"Il tipo di dato infatti è: \")\n",
    "print(type(a))"
   ]
  },
  {
   "cell_type": "markdown",
   "id": "1f93ef7c",
   "metadata": {},
   "source": [
    "##### ESEMPIO: SOMMA"
   ]
  },
  {
   "cell_type": "code",
   "execution_count": 336,
   "id": "a767bdcb",
   "metadata": {},
   "outputs": [
    {
     "name": "stdout",
     "output_type": "stream",
     "text": [
      "La somma di (3+3j) e (2+2j) è:\n",
      "(5+5j)\n",
      "Il tipo di dato infatti è:\n",
      "<class 'complex'>\n",
      "La somma di (3+3j) e 3.0 è:\n",
      "(6+3j)\n",
      "Il tipo di dato infatti è:\n",
      "<class 'complex'>\n"
     ]
    }
   ],
   "source": [
    "a = 3 + 1j*3 # prima variabile di tipo complex\n",
    "b = 2 + 1j*2 # seconda variabile di tipo complex\n",
    "c = 3.0 # terza variabile di tipo float\n",
    "\n",
    "d = a + b # Si sommano due complessi (e il risultato è sempre un complesso)\n",
    "e = a + c # Si sommano un float con un complesso (e il risultato è sempre un complesso)\n",
    "\n",
    "print(f\"La somma di {a} e {b} è:\")\n",
    "print(d)\n",
    "print(\"Il tipo di dato infatti è:\")\n",
    "print(type(d))\n",
    "print(f\"La somma di {a} e {c} è:\")\n",
    "print(e)\n",
    "print(\"Il tipo di dato infatti è:\")\n",
    "print(type(e))"
   ]
  },
  {
   "cell_type": "markdown",
   "id": "a8491829",
   "metadata": {},
   "source": [
    "##### ESEMPIO: DIFFERENZA"
   ]
  },
  {
   "cell_type": "code",
   "execution_count": 337,
   "id": "01d87449",
   "metadata": {},
   "outputs": [
    {
     "name": "stdout",
     "output_type": "stream",
     "text": [
      "La differenza di (3-3j) e (2-2j) è:\n",
      "(1-1j)\n",
      "Il tipo di dato infatti è:\n",
      "<class 'complex'>\n",
      "La differenza di (3-3j) e 3.0 è:\n",
      "-3j\n",
      "Il tipo di dato infatti è:\n",
      "<class 'complex'>\n"
     ]
    }
   ],
   "source": [
    "a = 3 - 1j*3 # prima variabile di tipo complex\n",
    "b = 2 - 1j*2 # seconda variabile di tipo complex\n",
    "c = 3.0 # terza variabile di tipo float\n",
    "\n",
    "d = a - b # Si sottraggono due complessi (e il risultato è sempre un complesso)\n",
    "e = a - c # Si sottraggono un float con un complesso (e il risultato è solo la parte immaginaria)\n",
    "\n",
    "print(f\"La differenza di {a} e {b} è:\")\n",
    "print(d)\n",
    "print(\"Il tipo di dato infatti è:\")\n",
    "print(type(d))\n",
    "print(f\"La differenza di {a} e {c} è:\")\n",
    "print(e)\n",
    "print(\"Il tipo di dato infatti è:\")\n",
    "print(type(e))"
   ]
  },
  {
   "cell_type": "markdown",
   "id": "1400fc23",
   "metadata": {},
   "source": [
    "##### ESEMPIO: DIVISIONE"
   ]
  },
  {
   "cell_type": "code",
   "execution_count": 338,
   "id": "c8488dd2",
   "metadata": {},
   "outputs": [
    {
     "name": "stdout",
     "output_type": "stream",
     "text": [
      "La divisione di (3+3j) e (2+2j) è:\n",
      "(1.5+0j)\n",
      "Il tipo di dato infatti è:\n",
      "<class 'complex'>\n",
      "La divisione di (3+3j) e 3.0 è:\n",
      "(1+1j)\n",
      "Il tipo di dato infatti è:\n",
      "<class 'complex'>\n"
     ]
    }
   ],
   "source": [
    "a = 3 + 1j*3 # prima variabile complessa\n",
    "b = 2 + 1j*2 # seconda variabile complessa\n",
    "c = 3.0 # terza variabile float\n",
    "\n",
    "d = a / b # Si dividono due complessi (e il risultato è sempre un complesso)\n",
    "e = a / c # Si dividono un float con un complesso \n",
    "\n",
    "print(f\"La divisione di {a} e {b} è:\")\n",
    "print(d)\n",
    "print(\"Il tipo di dato infatti è:\")\n",
    "print(type(d))\n",
    "print(f\"La divisione di {a} e {c} è:\")\n",
    "print(e)\n",
    "print(\"Il tipo di dato infatti è:\")\n",
    "print(type(e))"
   ]
  },
  {
   "cell_type": "markdown",
   "id": "afde3732",
   "metadata": {},
   "source": [
    "##### ESEMPIO: MOLTIPLICAZIONE"
   ]
  },
  {
   "cell_type": "code",
   "execution_count": 339,
   "id": "925e3f41",
   "metadata": {},
   "outputs": [
    {
     "name": "stdout",
     "output_type": "stream",
     "text": [
      "La moltiplicazione di (3-3j) e (2-2j) è:\n",
      "-12j\n",
      "Il tipo di dato infatti è:\n",
      "<class 'complex'>\n",
      "La moltiplicazione di (3-3j) e 3.0 è:\n",
      "(9-9j)\n",
      "Il tipo di dato infatti è:\n",
      "<class 'complex'>\n"
     ]
    }
   ],
   "source": [
    "a = 3 - 1j*3 # prima variabile di tipo complex\n",
    "b = 2 - 1j*2 # seconda variabile di tipo complex\n",
    "c = 3.0 # terza variabile di tipo float\n",
    "\n",
    "d = a * b # Si moltiplicano due complessi (e il risultato è solo la parte immaginaria)\n",
    "e = a * c # Si moltiplicano un float con un complesso (e il risultato è sempre un complesso)\n",
    "\n",
    "print(f\"La moltiplicazione di {a} e {b} è:\")\n",
    "print(d)\n",
    "print(\"Il tipo di dato infatti è:\")\n",
    "print(type(d))\n",
    "print(f\"La moltiplicazione di {a} e {c} è:\")\n",
    "print(e)\n",
    "print(\"Il tipo di dato infatti è:\")\n",
    "print(type(e))"
   ]
  },
  {
   "cell_type": "markdown",
   "id": "379933e3",
   "metadata": {},
   "source": [
    "##### ESEMPIO: POTENZA"
   ]
  },
  {
   "cell_type": "code",
   "execution_count": 340,
   "id": "50fecd63",
   "metadata": {},
   "outputs": [
    {
     "name": "stdout",
     "output_type": "stream",
     "text": [
      "La moltiplicazione di (3-3j) e (2-2j) è:\n",
      "(-0.9301698201642012+3.6243749286074007j)\n",
      "Il tipo di dato infatti è:\n",
      "<class 'complex'>\n",
      "La moltiplicazione di (3-3j) e 3.0 è:\n",
      "(-54-54j)\n",
      "Il tipo di dato infatti è:\n",
      "<class 'complex'>\n"
     ]
    }
   ],
   "source": [
    "a = 3 - 1j*3 # prima variabile di tipo complex\n",
    "b = 2 - 1j*2 # seconda variabile di tipo complex\n",
    "c = 3.0 # terza variabile di tipo float\n",
    "\n",
    "d = a ** b # Si moltiplicano due complessi (e il risultato è solo la parte immaginaria)\n",
    "e = a ** c # Si moltiplicano un float con un complesso (e il risultato è sempre un complesso)\n",
    "\n",
    "print(f\"La moltiplicazione di {a} e {b} è:\")\n",
    "print(d)\n",
    "print(\"Il tipo di dato infatti è:\")\n",
    "print(type(d))\n",
    "print(f\"La moltiplicazione di {a} e {c} è:\")\n",
    "print(e)\n",
    "print(\"Il tipo di dato infatti è:\")\n",
    "print(type(e))"
   ]
  },
  {
   "cell_type": "markdown",
   "id": "6de4f6a3",
   "metadata": {},
   "source": [
    "#### I LONG"
   ]
  },
  {
   "cell_type": "markdown",
   "id": "6a5fe812",
   "metadata": {},
   "source": [
    "In passato, in Python 2 (la scorsa edizione di Python), c'era una distinzione tra due tipi di numeri interi: \"int\" e \"long\". Il tipo \"int\" aveva un limite preciso e il tipo \"long\" veniva utilizzato per rappresentare numeri più grandi rispetto a quel limite. Tuttavia, con l'avvento di Python 3 (l'edizione di Python che si usa comunemente oggi), questa distinzione è stata eliminata.\n",
    "In Python 3, il tipo \"int\" è stato quindi potenziato per gestire anche numeri interi di dimensioni arbitrarie. Quindi ormai qualsiasi numero intero di una qualsiasi lunghezza numerica è considerato come integer (int).\n",
    "Nell'immagine qui sotto viene usato un simulatore di Python 2 online per vedere com'era l'output una volta, dove infatti il tipo di dato veniva riconosciuto come long"
   ]
  },
  {
   "cell_type": "code",
   "execution_count": 5,
   "id": "08f58734",
   "metadata": {},
   "outputs": [
    {
     "data": {
      "image/png": "[encoded data removed]",
      "text/plain": [
       "<IPython.core.display.Image object>"
      ]
     },
     "execution_count": 5,
     "metadata": {},
     "output_type": "execute_result"
    }
   ],
   "source": [
    "from IPython.display import Image\n",
    "\n",
    "# Specifica il percorso della tua immagine locale\n",
    "percorso_screenshot = r'C:\\Users\\matte\\OneDrive - Scuola Paritaria S. Freud SRL\\Desktop\\FREUD\\2°D\\QUADERNI E ALTRO\\INFORMATICA\\PYTHON\\ESERCIZI IN CLASSE\\Es. 1 (Le strutture dati in Python)\\Screenshot Python 2.png'\n",
    "\n",
    "# Visualizza l'immagine nel notebook\n",
    "Image(filename=percorso_screenshot)"
   ]
  },
  {
   "cell_type": "markdown",
   "id": "7cdc570b",
   "metadata": {},
   "source": [
    "Oggi infatti lo stesso identico codice ha un output ben diverso..."
   ]
  },
  {
   "cell_type": "code",
   "execution_count": 341,
   "id": "31a4e123",
   "metadata": {},
   "outputs": [
    {
     "name": "stdout",
     "output_type": "stream",
     "text": [
      "410186270246002225336426103593500672\n",
      "Il tipo di dato infatti e':\n",
      "<class 'int'>\n"
     ]
    }
   ],
   "source": [
    "numero_lungo = 12**33\n",
    "print(numero_lungo)\n",
    "print(\"Il tipo di dato infatti e':\")\n",
    "print(type(numero_lungo))"
   ]
  },
  {
   "cell_type": "markdown",
   "id": "765d22b5",
   "metadata": {},
   "source": [
    "#### I CHAR"
   ]
  },
  {
   "cell_type": "markdown",
   "id": "d7fd7c56",
   "metadata": {},
   "source": [
    "## I TIPI DI DATI NON SEMPLICI (LE SEQUENZE)"
   ]
  },
  {
   "cell_type": "markdown",
   "id": "0343d912",
   "metadata": {},
   "source": [
    "Le sequenze sono i tipi di dati più complessi, cioè più strutturati rispetto a quelli semplici, e contengono tipi di dati semplici mantenendo un ordine (ad eccezione della stringa, poichè definisce una parola o frase con una sequenza di caratteri)."
   ]
  },
  {
   "cell_type": "markdown",
   "id": "970c3a76",
   "metadata": {},
   "source": [
    "Le sequenze si dividono in mutabili e immutabili. La differenza nel fatto che le mutabili sono sequenze che possono cambiare dopo essere state create, invece le sequenze immutabili sono sequenze che possono cambiare dopo essere state create."
   ]
  },
  {
   "cell_type": "markdown",
   "id": "6cbfa1d9",
   "metadata": {},
   "source": [
    "Le sequenze mutabili sono:\n",
    "- Le liste (list)\n",
    "- I dizionari (dict)\n",
    "- Gli insiemi (set)\n",
    "- I file (file)"
   ]
  },
  {
   "cell_type": "markdown",
   "id": "60a758c5",
   "metadata": {},
   "source": [
    "### LE SEQUENZE MUTABILI"
   ]
  },
  {
   "cell_type": "markdown",
   "id": "fff8dcfe",
   "metadata": {},
   "source": [
    "#### LE LISTE"
   ]
  },
  {
   "cell_type": "code",
   "execution_count": 342,
   "id": "cb3299d0",
   "metadata": {},
   "outputs": [
    {
     "name": "stdout",
     "output_type": "stream",
     "text": [
      "[7, 12, 18, 33, 5, 44, 88, 99, 112]\n"
     ]
    }
   ],
   "source": [
    "lista_numerica = [7, 12, 18, 33, 5, 44, 88, 99, 112]\n",
    "print(lista_numerica)"
   ]
  },
  {
   "cell_type": "code",
   "execution_count": 343,
   "id": "807430b9",
   "metadata": {},
   "outputs": [
    {
     "name": "stdout",
     "output_type": "stream",
     "text": [
      "['a', 'c', 'q', 'k', 'ciao', 'Matteo', 'Vittorio', 'Mattia', 'come va?']\n"
     ]
    }
   ],
   "source": [
    "lista_con_caratteri = [\"a\",\"c\",\"q\",\"k\",\"ciao\",\"Matteo\",\"Vittorio\",\"Mattia\",\"come va?\"]\n",
    "print(lista_con_caratteri)"
   ]
  },
  {
   "cell_type": "code",
   "execution_count": 344,
   "id": "a42bc0df",
   "metadata": {},
   "outputs": [
    {
     "name": "stdout",
     "output_type": "stream",
     "text": [
      "['12', '3', '5', 12, 18, 33, 5, 44, 'ciao', 'Matteo', 'Vittorio', 'Mattia', 'come va?']\n"
     ]
    }
   ],
   "source": [
    "lista_mista = [\"12\",\"3\",\"5\", 12, 18, 33, 5, 44,\"ciao\",\"Matteo\",\"Vittorio\",\"Mattia\",\"come va?\"]\n",
    "print(lista_mista)"
   ]
  },
  {
   "cell_type": "code",
   "execution_count": 345,
   "id": "a00e47f8",
   "metadata": {},
   "outputs": [
    {
     "name": "stdout",
     "output_type": "stream",
     "text": [
      "['12', ['3', ['5', [12, 18], 33], 5, 44]]\n"
     ]
    }
   ],
   "source": [
    "lista_di_una_lista = [\"12\",[\"3\",[\"5\", [12, 18], 33], 5, 44]]\n",
    "print(lista_di_una_lista)"
   ]
  },
  {
   "cell_type": "code",
   "execution_count": 346,
   "id": "b3c4a39c",
   "metadata": {},
   "outputs": [
    {
     "name": "stdout",
     "output_type": "stream",
     "text": [
      "[7, 12, 18, 33, 5, 44, 88, 99, 112, 1012]\n"
     ]
    }
   ],
   "source": [
    "lista_numerica.append(1012)\n",
    "print(lista_numerica)"
   ]
  },
  {
   "cell_type": "code",
   "execution_count": 347,
   "id": "f5012210",
   "metadata": {},
   "outputs": [
    {
     "name": "stdout",
     "output_type": "stream",
     "text": [
      "['a', 'c', 'q', 'k', 'ciao', 'Matteo', 'Vittorio', 'Mattia', 'come va?', 'Python']\n"
     ]
    }
   ],
   "source": [
    "lista_con_caratteri.append(\"Python\")\n",
    "print(lista_con_caratteri)"
   ]
  },
  {
   "cell_type": "code",
   "execution_count": 348,
   "id": "b0257904",
   "metadata": {},
   "outputs": [
    {
     "name": "stdout",
     "output_type": "stream",
     "text": [
      "[7, 12, 18, 33, 5, 44, 88, 99, 1012]\n"
     ]
    }
   ],
   "source": [
    "lista_numerica.remove(112) # Rimuove il singolo numero all'interno della lista (solo se è veramente presente)\n",
    "print(lista_numerica)"
   ]
  },
  {
   "cell_type": "code",
   "execution_count": 349,
   "id": "3e1b4dc3",
   "metadata": {},
   "outputs": [
    {
     "name": "stdout",
     "output_type": "stream",
     "text": [
      "[7, 12, 18, 5, 44, 88, 99, 1012]\n"
     ]
    }
   ],
   "source": [
    "lista_numerica.pop(3) # Rimuove il singolo numero alla posizione indicata (in questo caso alla posizione n°3, da ricordare il fatto che su Python la numerazione parte da 0) all'interno della lista (solo se è veramente presente)\n",
    "print(lista_numerica)"
   ]
  },
  {
   "cell_type": "code",
   "execution_count": 350,
   "id": "5c82bea5",
   "metadata": {},
   "outputs": [
    {
     "name": "stdout",
     "output_type": "stream",
     "text": [
      "[7, 12, 18, 5, 44, 88, 99, 1012, '12', '3', '5', 12, 18, 33, 5, 44, 'ciao', 'Matteo', 'Vittorio', 'Mattia', 'come va?']\n"
     ]
    }
   ],
   "source": [
    "lista_sommata=lista_numerica + lista_mista\n",
    "print(lista_sommata)"
   ]
  },
  {
   "cell_type": "markdown",
   "id": "194150da",
   "metadata": {},
   "source": [
    "#### I DIZIONARI"
   ]
  },
  {
   "cell_type": "code",
   "execution_count": 351,
   "id": "8a5d7cf2",
   "metadata": {},
   "outputs": [],
   "source": [
    "dizionario_cibo_calorie = {\n",
    "    \"pizza\": 285, # La virgola è fondamentale perchè serve ad indicare che c'è un altra key\n",
    "    \"hamburger\": 250,\n",
    "    \"insalata\": 100,\n",
    "    \"pasta\": 158,\n",
    "    \"pollo arrosto\": 195,\n",
    "    \"riso\": 130,\n",
    "    \"sushi\": 374,\n",
    "    \"lasagna\": 336,\n",
    "    \"fragole\": 32,\n",
    "    \"gelato\": 207,\n",
    "    \"panino\": 320,\n",
    "    \"patatine fritte\": 365,\n",
    "    \"uva\": 69,\n",
    "    \"cioccolato\": 546,\n",
    "    \"yogurt\": 61,\n",
    "    \"spaghetti\": 131,\n",
    "    \"pesce al vapore\": 95,\n",
    "    \"muffin\": 444,\n",
    "    \"cereali\": 363,\n",
    "    \"torta al cioccolato\": 237\n",
    "}"
   ]
  },
  {
   "cell_type": "code",
   "execution_count": 352,
   "id": "bca17bd5",
   "metadata": {},
   "outputs": [
    {
     "data": {
      "text/plain": [
       "{'pizza': 285,\n",
       " 'hamburger': 250,\n",
       " 'insalata': 100,\n",
       " 'pasta': 158,\n",
       " 'pollo arrosto': 195,\n",
       " 'riso': 130,\n",
       " 'sushi': 374,\n",
       " 'lasagna': 336,\n",
       " 'fragole': 32,\n",
       " 'gelato': 207,\n",
       " 'panino': 320,\n",
       " 'patatine fritte': 365,\n",
       " 'uva': 69,\n",
       " 'cioccolato': 546,\n",
       " 'yogurt': 61,\n",
       " 'spaghetti': 131,\n",
       " 'pesce al vapore': 95,\n",
       " 'muffin': 444,\n",
       " 'cereali': 363,\n",
       " 'torta al cioccolato': 237,\n",
       " 'frittata': 'non importa le calorie, è buona',\n",
       " 'ciambellone': 'non importa le calorie, è buono, non mi toccate il ciambellone della nonna'}"
      ]
     },
     "execution_count": 352,
     "metadata": {},
     "output_type": "execute_result"
    }
   ],
   "source": [
    "dizionario_cibo_calorie[\"frittata\"] = \"non importa le calorie, è buona\"\n",
    "dizionario_cibo_calorie[\"ciambellone\"] = \"non importa le calorie, è buono, non mi toccate il ciambellone della nonna\"\n",
    "dizionario_cibo_calorie # Per avere un output migliore lo stampo direttamente indicando il nome della variabile"
   ]
  },
  {
   "cell_type": "code",
   "execution_count": 353,
   "id": "80614c6e",
   "metadata": {},
   "outputs": [
    {
     "name": "stdout",
     "output_type": "stream",
     "text": [
      "{'pizza': 285, 'hamburger': 250, 'insalata': 100, 'pasta': 158, 'pollo arrosto': 195, 'riso': 130, 'sushi': 374, 'lasagna': 336, 'fragole': 32, 'gelato': 207, 'panino': 320, 'patatine fritte': 365, 'uva': 69, 'cioccolato': 546, 'yogurt': 61, 'spaghetti': 131, 'pesce al vapore': 95, 'muffin': 444, 'cereali': 363, 'torta al cioccolato': 237, 'frittata': 'non importa le calorie, è buona', 'ciambellone': 'non importa le calorie, è buono, non mi toccate il ciambellone della nonna'}\n"
     ]
    }
   ],
   "source": [
    "print(dizionario_cibo_calorie) # Come output questo a mio parere è più difficile da capire, meglio quello sopra"
   ]
  },
  {
   "cell_type": "code",
   "execution_count": 354,
   "id": "104d85e4",
   "metadata": {},
   "outputs": [
    {
     "name": "stdout",
     "output_type": "stream",
     "text": [
      "444\n",
      "Mhhhh... buono il muffin!\n"
     ]
    }
   ],
   "source": [
    "print(dizionario_cibo_calorie['muffin'])\n",
    "print(\"Mhhhh... buono il muffin!\")"
   ]
  },
  {
   "cell_type": "code",
   "execution_count": 355,
   "id": "b3d65276",
   "metadata": {},
   "outputs": [
    {
     "name": "stdout",
     "output_type": "stream",
     "text": [
      "La key è presente nel dizionario, quindi puoi mangiare quel cibo\n"
     ]
    }
   ],
   "source": [
    "if \"pesce al vapore\" in dizionario_cibo_calorie:\n",
    "    print(f\"La key è presente nel dizionario, quindi puoi mangiare quel cibo\")\n",
    "else:\n",
    "    print(\"No non c'è quella key, adesso te tocca sta' digiuno\")"
   ]
  },
  {
   "cell_type": "code",
   "execution_count": 356,
   "id": "a57726cc",
   "metadata": {},
   "outputs": [
    {
     "name": "stdout",
     "output_type": "stream",
     "text": [
      "No non c'è quella key, adesso te tocca sta' digiuno\n"
     ]
    }
   ],
   "source": [
    "if \"zuppa di miso\" in dizionario_cibo_calorie:\n",
    "    print(f\"La key è presente nel dizionario, quindi puoi mangiare quel cibo\")\n",
    "else:\n",
    "    print(\"No non c'è quella key, adesso te tocca sta' digiuno\")"
   ]
  },
  {
   "cell_type": "markdown",
   "id": "75aed765",
   "metadata": {},
   "source": [
    "#### GLI INSIEMI"
   ]
  },
  {
   "cell_type": "code",
   "execution_count": null,
   "id": "37580bdc",
   "metadata": {},
   "outputs": [],
   "source": []
  },
  {
   "cell_type": "markdown",
   "id": "0247e4a7",
   "metadata": {},
   "source": [
    "#### I FILE"
   ]
  },
  {
   "cell_type": "code",
   "execution_count": null,
   "id": "dd1dd9c8",
   "metadata": {},
   "outputs": [],
   "source": []
  },
  {
   "cell_type": "markdown",
   "id": "4ae27ef3",
   "metadata": {},
   "source": [
    "### LE SEQUENZE IMMMUTABILI"
   ]
  },
  {
   "cell_type": "markdown",
   "id": "565a9205",
   "metadata": {},
   "source": [
    "Le sequenze immutabili sono:\n",
    "- Le stringhe (str)\n",
    "- Le tuple (tuple)\n",
    "- Gli insiemi immutabili (frozenset)"
   ]
  },
  {
   "cell_type": "markdown",
   "id": "3664d87b",
   "metadata": {},
   "source": [
    "#### LE STRINGHE"
   ]
  },
  {
   "cell_type": "code",
   "execution_count": 357,
   "id": "4dfc7c1e",
   "metadata": {},
   "outputs": [],
   "source": [
    "stringa = \"Ciao mi chiamo Matteo\""
   ]
  },
  {
   "cell_type": "code",
   "execution_count": 368,
   "id": "b971f722",
   "metadata": {},
   "outputs": [
    {
     "name": "stdout",
     "output_type": "stream",
     "text": [
      "Ciao mi chiamo Matteo e ho 15 anni\n"
     ]
    }
   ],
   "source": [
    "stringa1 = \"Ciao mi chiamo Matteo\"\n",
    "stringa2 = \"e ho 15 anni\"\n",
    "stringa_concatenata = stringa1 + \" \" + stringa2 # Ho inserito anche uno spazio come stringa per essere precisi con l'output\n",
    "print(stringa_concatenata)"
   ]
  },
  {
   "cell_type": "code",
   "execution_count": 372,
   "id": "086e97ca",
   "metadata": {},
   "outputs": [
    {
     "name": "stdout",
     "output_type": "stream",
     "text": [
      "iao mi chia\n"
     ]
    }
   ],
   "source": [
    "sottostringa = stringa_concatenata[1:12]  # Ottiene i caratteri dalla posizione 1 alla 12\n",
    "print(sottostringa)"
   ]
  },
  {
   "cell_type": "markdown",
   "id": "8025fc0f",
   "metadata": {},
   "source": [
    "#### LE TUPLE"
   ]
  },
  {
   "cell_type": "code",
   "execution_count": 361,
   "id": "bef27791",
   "metadata": {},
   "outputs": [
    {
     "name": "stdout",
     "output_type": "stream",
     "text": [
      "(1, 2, 3)\n"
     ]
    }
   ],
   "source": [
    "tupla = (1, 2, 3)\n",
    "print(tupla)"
   ]
  },
  {
   "cell_type": "code",
   "execution_count": 362,
   "id": "81423f0f",
   "metadata": {},
   "outputs": [
    {
     "name": "stdout",
     "output_type": "stream",
     "text": [
      "(1, 2, 3)\n"
     ]
    }
   ],
   "source": [
    "tupla = (1, 2, 3)\n",
    "primo_elemento = tupla[0]\n",
    "secondo_elemento = tupla[1]\n",
    "print(tupla)"
   ]
  },
  {
   "cell_type": "code",
   "execution_count": 363,
   "id": "77e5f5fe",
   "metadata": {},
   "outputs": [
    {
     "name": "stdout",
     "output_type": "stream",
     "text": [
      "(1, 2, 3, 4, 5)\n"
     ]
    }
   ],
   "source": [
    "tupla = (1, 2, 3, 4, 5)\n",
    "lunghezza = len(tupla)\n",
    "print(tupla)"
   ]
  },
  {
   "cell_type": "markdown",
   "id": "89a0559e",
   "metadata": {},
   "source": [
    "#### GLI INSIEMI IMMUTABILI"
   ]
  },
  {
   "cell_type": "code",
   "execution_count": null,
   "id": "6851dd10",
   "metadata": {},
   "outputs": [],
   "source": []
  }
 ],
 "metadata": {
  "kernelspec": {
   "display_name": "Python 3 (ipykernel)",
   "language": "python",
   "name": "python3"
  },
  "language_info": {
   "codemirror_mode": {
    "name": "ipython",
    "version": 3
   },
   "file_extension": ".py",
   "mimetype": "text/x-python",
   "name": "python",
   "nbconvert_exporter": "python",
   "pygments_lexer": "ipython3",
   "version": "3.11.4"
  }
 },
 "nbformat": 4,
 "nbformat_minor": 5
}
